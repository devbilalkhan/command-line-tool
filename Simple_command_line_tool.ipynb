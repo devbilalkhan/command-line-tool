{
  "nbformat": 4,
  "nbformat_minor": 0,
  "metadata": {
    "colab": {
      "name": "Simple-command-line-tool.ipynb",
      "provenance": [],
      "collapsed_sections": [],
      "authorship_tag": "ABX9TyOye3RmAuFI2qTPFVi2ihqs",
      "include_colab_link": true
    },
    "kernelspec": {
      "name": "python3",
      "display_name": "Python 3"
    },
    "language_info": {
      "name": "python"
    }
  },
  "cells": [
    {
      "cell_type": "markdown",
      "metadata": {
        "id": "view-in-github",
        "colab_type": "text"
      },
      "source": [
        "<a href=\"https://colab.research.google.com/github/devbilalkhan/command-line-tool/blob/main/Simple_command_line_tool.ipynb\" target=\"_parent\"><img src=\"https://colab.research.google.com/assets/colab-badge.svg\" alt=\"Open In Colab\"/></a>"
      ]
    },
    {
      "cell_type": "markdown",
      "source": [
        "# Practice on colab"
      ],
      "metadata": {
        "id": "gAtVmPHwWKju"
      }
    },
    {
      "cell_type": "markdown",
      "source": [
        "Creating simple command line tool in python."
      ],
      "metadata": {
        "id": "7v2WMoCeWP0f"
      }
    },
    {
      "cell_type": "code",
      "source": [
        "def my_first_colab():\n",
        "  return \"Hello World!\"\n",
        "\n",
        "my_first_colab()"
      ],
      "metadata": {
        "colab": {
          "base_uri": "https://localhost:8080/",
          "height": 36
        },
        "id": "xMPm-CUzdKOU",
        "outputId": "8cd6a97d-76b5-44a3-de7a-6b577d1ea8ca"
      },
      "execution_count": 2,
      "outputs": [
        {
          "output_type": "execute_result",
          "data": {
            "text/plain": [
              "'Hello World!'"
            ],
            "application/vnd.google.colaboratory.intrinsic+json": {
              "type": "string"
            }
          },
          "metadata": {},
          "execution_count": 2
        }
      ]
    }
  ]
}